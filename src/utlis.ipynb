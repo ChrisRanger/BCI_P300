{
 "cells": [
  {
   "cell_type": "code",
   "execution_count": 1,
   "metadata": {},
   "outputs": [],
   "source": [
    "import openpyxl\n",
    "import numpy\n",
    "import scipy\n",
    "import numpy as np\n",
    "import pandas as pd\n",
    "import FeatureExtract # 自己提取时域频域特征的方法实现"
   ]
  },
  {
   "cell_type": "code",
   "execution_count": 2,
   "metadata": {},
   "outputs": [
    {
     "name": "stdout",
     "output_type": "stream",
     "text": [
      "['char01(B)', 'char02(D)', 'char03(G)', 'char04(L)', 'char05(O)', 'char06(Q)', 'char07(S)', 'char08(V)', 'char09(Z)', 'char10(4)', 'char11(7)', 'char12(9)']\n",
      "['char01(B)', 'char02(D)', 'char03(G)', 'char04(L)', 'char05(O)', 'char06(Q)', 'char07(S)', 'char08(V)', 'char09(Z)', 'char10(4)', 'char11(7)', 'char12(9)']\n"
     ]
    }
   ],
   "source": [
    "raw_data = openpyxl.load_workbook(u'/home/chris/predict_code/lyft/bci/data/S1/S1_train_data.xlsx')\n",
    "raw_event = openpyxl.load_workbook(u'/home/chris/predict_code/lyft/bci/data/S1/S1_train_event.xlsx')\n",
    "print(raw_data.sheetnames)\n",
    "print(raw_event.sheetnames)"
   ]
  },
  {
   "cell_type": "code",
   "execution_count": 3,
   "metadata": {},
   "outputs": [],
   "source": [
    "# 行列标识符\n",
    "chars = {'A': (1, 7), 'B': (1, 8), 'C': (1, 9), 'D': (1, 10), 'E': (1, 11), 'F': (1, 12), \n",
    "         'G': (2, 7), 'H': (2, 8), 'I': (2, 9), 'J': (2, 10), 'K': (2, 11), 'L': (2, 12), \n",
    "         'M': (3, 7), 'N': (3, 8), 'O': (3, 9), 'P': (3, 10), 'Q': (3, 11), 'R': (3, 12), \n",
    "         'S': (4, 7), 'T': (4, 8), 'U': (4, 9), 'V': (4, 10), 'W': (4, 11), 'X': (4, 12), \n",
    "         'Y': (5, 7), 'Z': (5, 8), '1': (5, 9), '2': (5, 10), '3': (5, 11), '4': (5, 12), \n",
    "         '5': (6, 7), '6': (6, 8), '7': (6, 9), '8': (6, 10), '9': (6, 11), '0': (6, 12), \n",
    "        }"
   ]
  },
  {
   "cell_type": "code",
   "execution_count": 9,
   "metadata": {},
   "outputs": [
    {
     "name": "stdout",
     "output_type": "stream",
     "text": [
      "(720, 27)\n"
     ]
    }
   ],
   "source": [
    "# 脑电数据集转换为P300二分类数据集，含数据预处理、滤波、特征提取等\n",
    "classify_dataset = []\n",
    "\n",
    "# 带通滤波器上下界\n",
    "freq_min, freq_max = 1, 30\n",
    "# 调用8阶带通滤波器\n",
    "# b, a = scipy.signal.butter(8, [0.02,0.8], 'bandpass')\n",
    "\n",
    "for sheet in raw_event.sheetnames:\n",
    "    # 当前字符\n",
    "    current_char = sheet[7]\n",
    "    # print(current_char)\n",
    "    table_event = raw_event[sheet]\n",
    "    table_data = raw_data[sheet]\n",
    "    for row in range(raw_event[sheet].max_row):\n",
    "        if table_event.cell(row+1, 1).value >= 1 and table_event.cell(row+1, 1).value <= 12:\n",
    "            # data.shape: 275,-100ms~1000ms时间窗口20个电压的均值\n",
    "            # feature: 26\n",
    "            feature = []\n",
    "            data = []\n",
    "            all_data = []\n",
    "            for i in range(20):\n",
    "                channel = []\n",
    "                for j in range(275):\n",
    "                    channel.append(table_data.cell(table_event.cell(row+1, 2).value-24+j, i+1).value)\n",
    "                all_data.append(channel)\n",
    "                for pole in range(len(all_data)):\n",
    "                    data.append(np.max(all_data[pole],axis=0))\n",
    "            \n",
    "            # 带通滤波\n",
    "            # filter_data = scipy.signal.filtfilt(b, a, data[][i])\n",
    "            filter_data = data\n",
    "            # 16个时域特征\n",
    "            feature.append(FeatureExtract.mean_fea(filter_data))\n",
    "            feature.append(FeatureExtract.rms_fea(filter_data))\n",
    "            feature.append(FeatureExtract.sr_fea(filter_data))\n",
    "            feature.append(FeatureExtract.am_fea(filter_data))\n",
    "            feature.append(FeatureExtract.skew_fea(filter_data))\n",
    "            feature.append(FeatureExtract.kurt_fea(filter_data))\n",
    "            feature.append(FeatureExtract.max_fea(filter_data))\n",
    "            feature.append(FeatureExtract.min_fea(filter_data))\n",
    "            feature.append(FeatureExtract.pp_fea(filter_data))\n",
    "            feature.append(FeatureExtract.var_fea(filter_data))\n",
    "            feature.append(FeatureExtract.waveform_index(filter_data))\n",
    "            feature.append(FeatureExtract.peak_index(filter_data))\n",
    "            feature.append(FeatureExtract.impluse_factor(filter_data))\n",
    "            feature.append(FeatureExtract.tolerance_index(filter_data))\n",
    "            feature.append(FeatureExtract.skew_index(filter_data))\n",
    "            feature.append(FeatureExtract.kurt_index(filter_data))\n",
    "            # 10个频域特征\n",
    "            feature.append(FeatureExtract.fft_mean(filter_data))\n",
    "            feature.append(FeatureExtract.fft_var(filter_data))\n",
    "            feature.append(FeatureExtract.fft_std(filter_data))\n",
    "            feature.append(FeatureExtract.fft_entropy(filter_data))\n",
    "            feature.append(FeatureExtract.fft_energy(filter_data))\n",
    "            feature.append(FeatureExtract.fft_skew(filter_data))\n",
    "            feature.append(FeatureExtract.fft_shape_mean(filter_data))\n",
    "            feature.append(FeatureExtract.fft_shape_std(filter_data))\n",
    "            feature.append(FeatureExtract.fft_shape_skew(filter_data))\n",
    "            feature.append(FeatureExtract.fft_shape_kurt(filter_data))\n",
    "            if table_event.cell(row+1, 1).value == chars[current_char][0] or table_event.cell(row+1, 1).value == chars[current_char][1]:\n",
    "                feature.append(table_event.cell(row+1, 1).value)\n",
    "            else:\n",
    "                feature.append(0)\n",
    "            classify_dataset.append(feature)\n",
    "print((np.array(classify_dataset)).shape)\n",
    "df = pd.DataFrame(classify_dataset)\n",
    "df.to_csv('s1_avg_train.csv')"
   ]
  },
  {
   "cell_type": "code",
   "execution_count": null,
   "metadata": {},
   "outputs": [],
   "source": []
  }
 ],
 "metadata": {
  "kernelspec": {
   "display_name": "Python 3",
   "language": "python",
   "name": "python3"
  },
  "language_info": {
   "codemirror_mode": {
    "name": "ipython",
    "version": 3
   },
   "file_extension": ".py",
   "mimetype": "text/x-python",
   "name": "python",
   "nbconvert_exporter": "python",
   "pygments_lexer": "ipython3",
   "version": "3.7.8"
  },
  "pycharm": {
   "stem_cell": {
    "cell_type": "raw",
    "metadata": {
     "collapsed": false
    },
    "source": []
   }
  }
 },
 "nbformat": 4,
 "nbformat_minor": 4
}
