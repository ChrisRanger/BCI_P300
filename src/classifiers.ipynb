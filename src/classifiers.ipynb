{
 "cells": [
  {
   "cell_type": "code",
   "execution_count": 6,
   "metadata": {},
   "outputs": [],
   "source": [
    "import openpyxl\n",
    "import mne\n",
    "import mnelab\n",
    "import numpy\n",
    "import matplotlib\n",
    "import xgboost\n",
    "import pyriemann\n",
    "import scipy\n",
    "import pickle\n",
    "import numpy as np\n",
    "import pandas as pd\n",
    "from sklearn.tree import DecisionTreeClassifier\n",
    "from sklearn.model_selection import train_test_split\n",
    "from sklearn.metrics import classification_report\n",
    "from sklearn.pipeline import Pipeline\n",
    "from sklearn.model_selection import GridSearchCV\n",
    "from sklearn.ensemble import RandomForestClassifier\n",
    "from sklearn.metrics import accuracy_score"
   ]
  },
  {
   "cell_type": "code",
   "execution_count": 2,
   "metadata": {},
   "outputs": [],
   "source": [
    "# 行列标识符,P300二分类转字符36分类用\n",
    "chars = {'A': (1, 7), 'B': (1, 8), 'C': (1, 9), 'D': (1, 10), 'E': (1, 11), 'F': (1, 12), \n",
    "         'G': (2, 7), 'H': (2, 8), 'I': (2, 9), 'J': (2, 10), 'K': (2, 11), 'L': (2, 12), \n",
    "         'M': (3, 7), 'N': (3, 8), 'O': (3, 9), 'P': (3, 10), 'Q': (3, 11), 'R': (3, 12), \n",
    "         'S': (4, 7), 'T': (4, 8), 'U': (4, 9), 'V': (4, 10), 'W': (4, 11), 'X': (4, 12), \n",
    "         'Y': (5, 7), 'Z': (5, 8), '1': (5, 9), '2': (5, 10), '3': (5, 11), '4': (5, 12), \n",
    "         '5': (6, 7), '6': (6, 8), '7': (6, 9), '8': (6, 10), '9': (6, 11), '0': (6, 12), \n",
    "        }"
   ]
  },
  {
   "cell_type": "code",
   "execution_count": 32,
   "metadata": {},
   "outputs": [
    {
     "name": "stdout",
     "output_type": "stream",
     "text": [
      "1200\n",
      "(1200, 520) 1200\n"
     ]
    }
   ],
   "source": [
    "# 加载本地数据集\n",
    "dataset_s1 = pd.read_csv('../data/s1_train.csv')\n",
    "dataset_s2 = pd.read_csv('../data/s2_train.csv')\n",
    "dataset_s3 = pd.read_csv('../data/s3_train.csv')\n",
    "dataset_s4 = pd.read_csv('../data/s4_train.csv')\n",
    "dataset_s5 = pd.read_csv('../data/s5_train.csv')\n",
    "dataset = np.concatenate((dataset_s1, dataset_s2, dataset_s3, dataset_s4, dataset_s5), axis=0)\n",
    "\n",
    "# 随机删除过多的负样本,使正负样本1:1\n",
    "delete_num = 0\n",
    "while delete_num<2400:\n",
    "    index = np.random.choice(dataset.shape[0],1,replace=True)\n",
    "    # 只删负样本\n",
    "    if np.squeeze(dataset[index])[-1] == 0.0:\n",
    "        dataset = np.delete(dataset, index, axis=0)\n",
    "        delete_num += 1\n",
    "\n",
    "print(dataset.shape[0])\n",
    "data = dataset[:, 1:521]\n",
    "label = dataset[:, 521]\n",
    "for index in range(len(label)):\n",
    "    if label[index] != 0:\n",
    "        label[index] = 1\n",
    "\n",
    "print(data.shape, len(label))\n",
    "\n",
    "# 划分数据集\n",
    "data_train, data_eval, label_train, label_eval = train_test_split(data, label, test_size=0.2, random_state=1)"
   ]
  },
  {
   "cell_type": "code",
   "execution_count": 22,
   "metadata": {},
   "outputs": [
    {
     "name": "stdout",
     "output_type": "stream",
     "text": [
      "train finished\n",
      "0 240\n",
      "              precision    recall  f1-score   support\n",
      "\n",
      "         0.0       0.47      1.00      0.64       113\n",
      "         1.0       0.00      0.00      0.00       127\n",
      "\n",
      "    accuracy                           0.47       240\n",
      "   macro avg       0.24      0.50      0.32       240\n",
      "weighted avg       0.22      0.47      0.30       240\n",
      "\n",
      "Accuracy:  0.4708333333333333\n"
     ]
    },
    {
     "name": "stderr",
     "output_type": "stream",
     "text": [
      "/home/chris/anaconda3/envs/lyft/lib/python3.7/site-packages/sklearn/metrics/_classification.py:1221: UndefinedMetricWarning: Precision and F-score are ill-defined and being set to 0.0 in labels with no predicted samples. Use `zero_division` parameter to control this behavior.\n",
      "  _warn_prf(average, modifier, msg_start, len(result))\n"
     ]
    }
   ],
   "source": [
    "# SVM二分类器\n",
    "from sklearn.svm import SVC\n",
    "clf_svm = SVC(kernel='rbf', probability=True)\n",
    "clf_svm.fit(data_train, label_train)\n",
    "file_svm = open('model/svm.pickle', 'wb')\n",
    "clf_svm_model = pickle.dump(clf_svm, file_svm)\n",
    "pred_svm = clf_svm.predict(data_eval)\n",
    "num1 = 0\n",
    "num2 = 0\n",
    "for i in pred_svm:\n",
    "    if i == 0:\n",
    "        num2 += 1\n",
    "    else:\n",
    "        num1 += 1\n",
    "print(num1, num2)\n",
    "print(classification_report(label_eval, pred_svm))\n",
    "print(\"Accuracy: \", accuracy_score(label_eval,pred_svm))"
   ]
  },
  {
   "cell_type": "code",
   "execution_count": 35,
   "metadata": {},
   "outputs": [
    {
     "name": "stdout",
     "output_type": "stream",
     "text": [
      "              precision    recall  f1-score   support\n",
      "\n",
      "         0.0       0.48      0.52      0.50       122\n",
      "         1.0       0.45      0.42      0.43       118\n",
      "\n",
      "    accuracy                           0.47       240\n",
      "   macro avg       0.47      0.47      0.46       240\n",
      "weighted avg       0.47      0.47      0.47       240\n",
      "\n",
      "Accuracy:  0.4666666666666667\n",
      "108 132\n"
     ]
    }
   ],
   "source": [
    "# 随机森林二分类器\n",
    "clf_RF = RandomForestClassifier(n_estimators=10,)\n",
    "clf_RF.fit(data_train, label_train)\n",
    "file_RF = open('model/RF.pickle', 'wb')\n",
    "clf_RF_model = pickle.dump(clf_RF, file_RF)\n",
    "pred_RF = clf_RF.predict(data_eval)\n",
    "print(classification_report(label_eval, pred_RF))\n",
    "print(\"Accuracy: \", accuracy_score(label_eval,pred_RF))\n",
    "num1 = 0\n",
    "num2 = 0\n",
    "for i in pred_RF:\n",
    "    if i == 0:\n",
    "        num2 += 1\n",
    "    else:\n",
    "        num1 += 1\n",
    "print(num1, num2)"
   ]
  },
  {
   "cell_type": "code",
   "execution_count": 28,
   "metadata": {},
   "outputs": [
    {
     "name": "stdout",
     "output_type": "stream",
     "text": [
      "train finished\n",
      "              precision    recall  f1-score   support\n",
      "\n",
      "         0.0       0.50      0.53      0.52       118\n",
      "         1.0       0.52      0.49      0.51       122\n",
      "\n",
      "    accuracy                           0.51       240\n",
      "   macro avg       0.51      0.51      0.51       240\n",
      "weighted avg       0.51      0.51      0.51       240\n",
      "\n",
      "Accuracy:  0.5125\n",
      "115 125\n"
     ]
    }
   ],
   "source": [
    "# xgboost二分类器\n",
    "import xgboost\n",
    "clf_xgboost = xgboost.XGBClassifier()\n",
    "clf_xgboost.fit(data_train, label_train)\n",
    "file_xgboost = open('model/xgboost1.pickle', 'wb')\n",
    "clf_xgboost_model = pickle.dump(clf_xgboost, file_xgboost)\n",
    "pred_xgboost = clf_xgboost.predict(data_eval)\n",
    "print(classification_report(label_eval, pred_xgboost))\n",
    "print(\"Accuracy: \", accuracy_score(label_eval,pred_xgboost))\n",
    "num1 = 0\n",
    "num2 = 0\n",
    "for i in pred_xgboost:\n",
    "    if i == 0:\n",
    "        num2 += 1\n",
    "    else:\n",
    "        num1 += 1\n",
    "print(num1, num2)"
   ]
  },
  {
   "cell_type": "code",
   "execution_count": null,
   "metadata": {},
   "outputs": [],
   "source": [
    "# 字符识别\n",
    "test_data_s1 = openpyxl.load_workbook(u'/home/chris/predict_code/lyft/bci/data/S1/S1_test_data.xlsx')\n",
    "test_data_s1 = openpyxl.load_workbook(u'/home/chris/predict_code/lyft/bci/data/S1/S1_test_event.xlsx')"
   ]
  }
 ],
 "metadata": {
  "kernelspec": {
   "display_name": "Python 3",
   "language": "python",
   "name": "python3"
  },
  "language_info": {
   "codemirror_mode": {
    "name": "ipython",
    "version": 3
   },
   "file_extension": ".py",
   "mimetype": "text/x-python",
   "name": "python",
   "nbconvert_exporter": "python",
   "pygments_lexer": "ipython3",
   "version": "3.7.8"
  },
  "pycharm": {
   "stem_cell": {
    "cell_type": "raw",
    "metadata": {
     "collapsed": false
    },
    "source": []
   }
  }
 },
 "nbformat": 4,
 "nbformat_minor": 4
}
