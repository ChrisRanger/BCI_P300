{
 "cells": [
  {
   "cell_type": "code",
   "execution_count": 1,
   "metadata": {},
   "outputs": [],
   "source": [
    "import openpyxl\n",
    "import mne\n",
    "import mnelab\n",
    "import numpy\n",
    "import matplotlib\n",
    "import xgboost\n",
    "import pyriemann\n",
    "import scipy\n",
    "import pickle\n",
    "import numpy as np\n",
    "import pandas as pd\n",
    "import FeatureExtract\n",
    "from sklearn.tree import DecisionTreeClassifier\n",
    "from sklearn.model_selection import train_test_split\n",
    "from sklearn.metrics import classification_report\n",
    "from sklearn.pipeline import Pipeline\n",
    "from sklearn.model_selection import GridSearchCV\n",
    "from sklearn.ensemble import RandomForestClassifier\n",
    "from sklearn.metrics import accuracy_score"
   ]
  },
  {
   "cell_type": "code",
   "execution_count": 2,
   "metadata": {},
   "outputs": [],
   "source": [
    "# 行列标识符,P300二分类转字符36分类用\n",
    "chars = {'A': (1, 7), 'B': (1, 8), 'C': (1, 9), 'D': (1, 10), 'E': (1, 11), 'F': (1, 12), \n",
    "         'G': (2, 7), 'H': (2, 8), 'I': (2, 9), 'J': (2, 10), 'K': (2, 11), 'L': (2, 12), \n",
    "         'M': (3, 7), 'N': (3, 8), 'O': (3, 9), 'P': (3, 10), 'Q': (3, 11), 'R': (3, 12), \n",
    "         'S': (4, 7), 'T': (4, 8), 'U': (4, 9), 'V': (4, 10), 'W': (4, 11), 'X': (4, 12), \n",
    "         'Y': (5, 7), 'Z': (5, 8), '1': (5, 9), '2': (5, 10), '3': (5, 11), '4': (5, 12), \n",
    "         '5': (6, 7), '6': (6, 8), '7': (6, 9), '8': (6, 10), '9': (6, 11), '0': (6, 12), \n",
    "        }"
   ]
  },
  {
   "cell_type": "code",
   "execution_count": 19,
   "metadata": {},
   "outputs": [
    {
     "name": "stdout",
     "output_type": "stream",
     "text": [
      "(10, 5, 12, 521)\n"
     ]
    }
   ],
   "source": [
    "# 测试数据加载\n",
    "raw_test_data = openpyxl.load_workbook(u'/home/chris/predict_code/lyft/bci/data/S5/S5_test_data.xlsx')\n",
    "raw_test_event = openpyxl.load_workbook(u'/home/chris/predict_code/lyft/bci/data/S5/S5_test_event.xlsx')\n",
    "\n",
    "# 测试数据预处理，特征提取, 10*5*12*521\n",
    "# (即10个字符，每个五轮，每轮12次闪烁，20个通道，每个通道26个特征，共520特征,外加一个字符矩阵行列标识符)\n",
    "test_data = []\n",
    "\n",
    "# 带通滤波器上下界\n",
    "freq_min, freq_max = 1, 30\n",
    "# 调用8阶带通滤波器\n",
    "# b, a = scipy.signal.butter(8, [0.02,0.8], 'bandpass')\n",
    "\n",
    "for sheet in raw_test_data.sheetnames:\n",
    "    # 取sheet数据\n",
    "    table_event = raw_test_event[sheet]\n",
    "    table_data = raw_test_data[sheet]\n",
    "    \n",
    "    # 转换后数据,5轮次P300脑电处理后数据\n",
    "    iter = 0 # 轮次数\n",
    "    count = 0 # 计数\n",
    "    char_data = [] # 多轮数据, 5*12*521\n",
    "    iter_data = [] # 一轮数据, 12*521\n",
    "    for row in range(raw_test_event[sheet].max_row):\n",
    "        if table_event.cell(row+1, 1).value >= 1 and table_event.cell(row+1, 1).value <= 12:\n",
    "            # data.shape: 275*20,-100ms~1000ms时间窗口\n",
    "            # feature: 520\n",
    "            feature = []\n",
    "            data = []\n",
    "            \n",
    "            if count % 12 == 0:\n",
    "                iter += 1\n",
    "                count = 0\n",
    "                char_data.append(iter_data)\n",
    "                iter_data.clear()\n",
    "            \n",
    "            for i in range(20):\n",
    "                channel = []\n",
    "                for j in range(275):\n",
    "                    channel.append(table_data.cell(table_event.cell(row+1, 2).value-24+j, i+1).value)\n",
    "                data.append(channel)\n",
    "            for i in range(20):\n",
    "                # 带通滤波\n",
    "                # filter_data = scipy.signal.filtfilt(b, a, data[i])\n",
    "                filter_data = data[i]\n",
    "                # 16个时域特征\n",
    "                feature.append(FeatureExtract.mean_fea(filter_data))\n",
    "                feature.append(FeatureExtract.rms_fea(filter_data))\n",
    "                feature.append(FeatureExtract.sr_fea(filter_data))\n",
    "                feature.append(FeatureExtract.am_fea(filter_data))\n",
    "                feature.append(FeatureExtract.skew_fea(filter_data))\n",
    "                feature.append(FeatureExtract.kurt_fea(filter_data))\n",
    "                feature.append(FeatureExtract.max_fea(filter_data))\n",
    "                feature.append(FeatureExtract.min_fea(filter_data))\n",
    "                feature.append(FeatureExtract.pp_fea(filter_data))\n",
    "                feature.append(FeatureExtract.var_fea(filter_data))\n",
    "                feature.append(FeatureExtract.waveform_index(filter_data))\n",
    "                feature.append(FeatureExtract.peak_index(filter_data))\n",
    "                feature.append(FeatureExtract.impluse_factor(filter_data))\n",
    "                feature.append(FeatureExtract.tolerance_index(filter_data))\n",
    "                feature.append(FeatureExtract.skew_index(filter_data))\n",
    "                feature.append(FeatureExtract.kurt_index(filter_data))\n",
    "                # 10个频域特征\n",
    "                feature.append(FeatureExtract.fft_mean(filter_data))\n",
    "                feature.append(FeatureExtract.fft_var(filter_data))\n",
    "                feature.append(FeatureExtract.fft_std(filter_data))\n",
    "                feature.append(FeatureExtract.fft_entropy(filter_data))\n",
    "                feature.append(FeatureExtract.fft_energy(filter_data))\n",
    "                feature.append(FeatureExtract.fft_skew(filter_data))\n",
    "                feature.append(FeatureExtract.fft_shape_mean(filter_data))\n",
    "                feature.append(FeatureExtract.fft_shape_std(filter_data))\n",
    "                feature.append(FeatureExtract.fft_shape_skew(filter_data))\n",
    "                feature.append(FeatureExtract.fft_shape_kurt(filter_data))\n",
    "                # 字符矩阵行列标识符\n",
    "            feature.append(table_event.cell(row+1, 1).value)\n",
    "            iter_data.append(feature)\n",
    "            count += 1\n",
    "    test_data.append(char_data)\n",
    "            \n",
    "print((np.array(test_data)).shape)    "
   ]
  },
  {
   "cell_type": "code",
   "execution_count": 21,
   "metadata": {},
   "outputs": [
    {
     "name": "stdout",
     "output_type": "stream",
     "text": [
      "(6, 12) ['0']\n",
      "(3, 9) ['O']\n",
      "(1, 11) ['E']\n",
      "(4, 10) ['V']\n",
      "(6, 8) ['6']\n",
      "(2, 9) ['I']\n",
      "(2, 9) ['I']\n",
      "(3, 11) ['Q']\n",
      "(4, 8) ['T']\n",
      "(4, 9) ['U']\n"
     ]
    }
   ],
   "source": [
    "# P300二分类器模型加载,输出字符\n",
    "answer = []\n",
    "with open('model/xgboost1.pickle', 'rb') as fr:\n",
    "    clf_p300 = pickle.load(fr)\n",
    "    # 轮询每个字符数据\n",
    "    for i in range(len(test_data)):\n",
    "        # size:5, 12, 521\n",
    "        current_char_data = np.array(test_data[i])\n",
    "        char_prob = []\n",
    "        for j in range(len(current_char_data)):\n",
    "            # size: 12, 521\n",
    "            curr_iter_data = current_char_data[j]\n",
    "            # 12次闪烁后脑电含P300波的概率， 12×(prob, 对应row或colum号)\n",
    "            p300_prob = []\n",
    "            for k in range(len(curr_iter_data)):\n",
    "                prob_pred = (np.squeeze(clf_p300.predict_proba(np.expand_dims(curr_iter_data[k][0:-2], 0))))[0]\n",
    "                # 行列标识符和对应该行列闪烁后有无P300的概率组成元组\n",
    "                p300_prob.append((prob_pred, curr_iter_data[k][-1]))\n",
    "            char_prob.append(p300_prob)\n",
    "        # print((np.array(char_prob)))\n",
    "        # P300二分类检测完成，求字符\n",
    "        prob = [0.0, 0.0, 0.0, 0.0, 0.0, 0.0, 0.0, 0.0, 0.0, 0.0, 0.0, 0.0] # 初始各行或列闪烁后有无P300概率\n",
    "        for a in range(len(char_prob)):\n",
    "            p300_iter = char_prob[a]\n",
    "            # 多轮加权\n",
    "            for b in range(len(p300_iter)):\n",
    "                prob[int(p300_iter[b][1]-1)] += p300_iter[b][0]\n",
    "            for index in range(len(prob)):\n",
    "                prob[index] = prob[index]/5.0\n",
    "        # print(prob)\n",
    "        # 求出对应行列标识符\n",
    "        char_row = np.argmax(prob[0:6])\n",
    "        char_col = np.argmax(prob[6:])\n",
    "        # 基于行列标识符，按值找键查字符矩阵标识符字典\n",
    "        answer.append([k for k,v in chars.items() if v==(char_row+1, char_col+7)])\n",
    "        print((char_row+1, char_col+7), answer[i])"
   ]
  },
  {
   "cell_type": "code",
   "execution_count": null,
   "metadata": {},
   "outputs": [],
   "source": []
  }
 ],
 "metadata": {
  "kernelspec": {
   "display_name": "Python 3",
   "language": "python",
   "name": "python3"
  },
  "language_info": {
   "codemirror_mode": {
    "name": "ipython",
    "version": 3
   },
   "file_extension": ".py",
   "mimetype": "text/x-python",
   "name": "python",
   "nbconvert_exporter": "python",
   "pygments_lexer": "ipython3",
   "version": "3.7.8"
  },
  "pycharm": {
   "stem_cell": {
    "cell_type": "raw",
    "metadata": {
     "collapsed": false
    },
    "source": []
   }
  }
 },
 "nbformat": 4,
 "nbformat_minor": 4
}
